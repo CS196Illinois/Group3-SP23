{
 "cells": [
  {
   "attachments": {},
   "cell_type": "markdown",
   "metadata": {},
   "source": [
    "Import pandas and the course dataframe."
   ]
  },
  {
   "cell_type": "code",
   "execution_count": null,
   "metadata": {},
   "outputs": [],
   "source": [
    "import pandas as pd\n",
    "import matplotlib.pyplot as plt\n",
    "data = pd.read_csv(\"courses.csv\")\n",
    "data.head()"
   ]
  },
  {
   "attachments": {},
   "cell_type": "markdown",
   "metadata": {},
   "source": [
    "Create another table including gpa"
   ]
  },
  {
   "cell_type": "code",
   "execution_count": null,
   "metadata": {},
   "outputs": [],
   "source": [
    "grade = data\n",
    "grade[\"GPA\"] = (grade['A+']*4 + grade['A']*4 + grade['A-']*3.67 + grade['B+']*3.33 + grade['B']*3 + grade['B-']*2.67 + grade['C+']*2.33 + grade['C']*2 + grade['C-']*1.67 + grade['D+']*1.33 + grade['D']*1 +  grade['D-']*0.67 + grade['F']*0)/(grade['A+'] + grade['A'] + grade['A-'] + grade['B+'] + grade['B'] + grade['B-'] + grade['C+'] + grade['C'] + grade['C-'] + grade['D+'] + grade['D'] +  grade['D-'] + grade['F']) \n",
    "data.head()\n"
   ]
  },
  {
   "attachments": {},
   "cell_type": "markdown",
   "metadata": {},
   "source": [
    "Calculate the grade by course"
   ]
  },
  {
   "cell_type": "code",
   "execution_count": null,
   "metadata": {},
   "outputs": [],
   "source": [
    "grade_course = grade.groupby([grade[\"Subject\"], grade[\"Course Title\"]])['GPA'].mean().reset_index()\n",
    "grade_course.head()"
   ]
  },
  {
   "attachments": {},
   "cell_type": "markdown",
   "metadata": {},
   "source": [
    "Calculate the grade by course and time"
   ]
  },
  {
   "cell_type": "code",
   "execution_count": null,
   "metadata": {},
   "outputs": [],
   "source": [
    "grade_time = grade.groupby([grade[\"Year\"], grade[\"Term\"], grade[\"Subject\"], grade[\"Course Title\"]])['GPA'].mean().reset_index()\n",
    "grade_time.head()"
   ]
  },
  {
   "attachments": {},
   "cell_type": "markdown",
   "metadata": {},
   "source": [
    "Calculate the grade by course, time, and professors "
   ]
  },
  {
   "cell_type": "code",
   "execution_count": null,
   "metadata": {},
   "outputs": [],
   "source": [
    "grade_professor = grade.groupby([grade[\"Year\"], grade[\"Term\"], grade[\"Subject\"], grade[\"Course Title\"], grade['Primary Instructor']])['GPA'].mean().reset_index()\n",
    "grade_professor.head()"
   ]
  },
  {
   "attachments": {},
   "cell_type": "markdown",
   "metadata": {},
   "source": [
    "Function that takes in a major and lists all the classes in it"
   ]
  },
  {
   "cell_type": "code",
   "execution_count": null,
   "metadata": {},
   "outputs": [],
   "source": [
    "def get_major(subject):\n",
    "  return data[data['Subject'] == subject][['Course Title']].drop_duplicates(keep='first').reset_index()\n",
    "get_major(\"AAS\").head()"
   ]
  },
  {
   "cell_type": "markdown",
   "metadata": {},
   "source": [
    "Function that calculates the average GPA of the class based on the number of As, Bs, Cs, etc."
   ]
  },
  {
   "cell_type": "code",
   "execution_count": null,
   "metadata": {},
   "outputs": [],
   "source": [
    "#def get_gpa_level1(course_title):\n",
    "#  return grade_course[grade_course['Course Title'] == course_title][['GPA']].reset_index()\n",
    "\n",
    "def get_gpa(course_title, year, term):\n",
    "  return grade_time[(grade_time['Course Title'] == course_title) & (grade_time['Year'] == year) & (grade_time['Term'] == term)][['GPA']].reset_index()\n",
    "\n",
    "#def get_gpa_level3(course_title, year, term, professor):\n",
    "#  return grade_professor[(grade_professor['Course Title'] == course_title) & (grade_professor['Year'] == year) & (grade_professor['Term'] == term) & (grade_professor['Primary Instructor'] == professor)][['GPA']].reset_index()\n",
    "\n",
    "#get_gpa_level1(\"Intro Asian American Studies\")\n",
    "\n",
    "get_gpa(\"Intro Asian American Studies\", 2010, 'Fall')\n",
    "\n",
    "#get_gpa_level3(\"Intro Asian American Studies\", 2010, 'Fall', 'Arnaldo, Constancio')\n"
   ]
  },
  {
   "attachments": {},
   "cell_type": "markdown",
   "metadata": {},
   "source": [
    "Function that takes in a major and a semester (Sp, Fa) and returns the classes offered during that time"
   ]
  },
  {
   "cell_type": "code",
   "execution_count": null,
   "metadata": {},
   "outputs": [],
   "source": [
    "def get_class_by_major_time(major, year, term):\n",
    "  return data[(data['Subject'] == major) & (data['Year'] == year) & (data['Term'] == term)][['Course Title']].reset_index()\n",
    "\n",
    "get_class_by_major_time('STAT', 2022, 'Summer')"
   ]
  },
  {
   "attachments": {},
   "cell_type": "markdown",
   "metadata": {},
   "source": [
    "Function that plots the course's grade distribution in a given term."
   ]
  },
  {
   "cell_type": "code",
   "execution_count": null,
   "metadata": {},
   "outputs": [],
   "source": [
    "def get_plot(course_title, year, term):\n",
    "        # x-coordinates of left sides of bars \n",
    "        left = ['A+','A', 'A-', 'B+', 'B', 'B-', 'C+', 'C', 'C-', 'D+', 'D', 'D-', 'F']\n",
    "        \n",
    "        # heights of bars\n",
    "        temp = data[(data['Course Title'] == course_title) & (data['Year'] == year) & (data['Term'] == term)]\n",
    "        height = [temp['A+'].sum(), temp['A'].sum(), temp['A-'].sum(), temp['B+'].sum(), temp['B'].sum(), temp['B-'].sum(), temp['C+'].sum(), temp['C'].sum(), temp['C-'].sum(), temp['D+'].sum(), temp['D'].sum(), temp['D-'].sum(), temp['F'].sum()]\n",
    "\n",
    "        # plotting a bar chart\n",
    "        plt.bar(left, height,\n",
    "                width = 0.8, color = ['red', 'green'])\n",
    "        \n",
    "        # naming the x-axis\n",
    "        plt.xlabel(course_title)\n",
    "        # naming the y-axis\n",
    "        plt.ylabel('Count')\n",
    "        # plot title\n",
    "        plt.title('Grade')\n",
    "        \n",
    "        # function to show the plot\n",
    "        return plt.show()"
   ]
  },
  {
   "cell_type": "code",
   "execution_count": null,
   "metadata": {},
   "outputs": [],
   "source": [
    "get_plot('Intro Asian American Studies', 2022, 'Spring')"
   ]
  },
  {
   "attachments": {},
   "cell_type": "markdown",
   "metadata": {},
   "source": [
    "Function that plots the gpa distribution for individual instructors of a given course in a given term."
   ]
  },
  {
   "cell_type": "code",
   "execution_count": null,
   "metadata": {},
   "outputs": [],
   "source": [
    "def get_plot2(course_title, year, term):\n",
    "        temp = grade_professor[(grade_professor['Course Title'] == course_title) & (grade_professor['Year'] == year) & (grade_professor['Term'] == term)]\n",
    "        # x-coordinates of left sides of bars \n",
    "        left = temp['Primary Instructor']\n",
    "        \n",
    "        # heights of bars\n",
    "        height = temp['GPA']\n",
    "\n",
    "        # plotting a bar chart\n",
    "        plt.bar(left, height,\n",
    "                width = 0.5, color = ['red', 'green'])\n",
    "        \n",
    "        # naming the x-axis\n",
    "        plt.xlabel(course_title)\n",
    "        # naming the y-axis\n",
    "        plt.ylabel('Count')\n",
    "        # plot title\n",
    "        plt.title('Grade')\n",
    "        \n",
    "        # function to show the plot\n",
    "        return plt.show()"
   ]
  },
  {
   "cell_type": "code",
   "execution_count": null,
   "metadata": {},
   "outputs": [],
   "source": [
    "get_plot2('Intro Asian American Studies', 2022, 'Spring')"
   ]
  }
 ],
 "metadata": {
  "kernelspec": {
   "display_name": "Python 3",
   "language": "python",
   "name": "python3"
  },
  "language_info": {
   "codemirror_mode": {
    "name": "ipython",
    "version": 3
   },
   "file_extension": ".py",
   "mimetype": "text/x-python",
   "name": "python",
   "nbconvert_exporter": "python",
   "pygments_lexer": "ipython3",
   "version": "3.11.2"
  },
  "orig_nbformat": 4
 },
 "nbformat": 4,
 "nbformat_minor": 2
}
